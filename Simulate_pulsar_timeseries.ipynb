{
 "cells": [
  {
   "cell_type": "code",
   "execution_count": 1,
   "id": "745ed5a8",
   "metadata": {},
   "outputs": [],
   "source": [
    "import numpy as np\n",
    "import matplotlib.pyplot as plt"
   ]
  },
  {
   "cell_type": "code",
   "execution_count": 2,
   "id": "f14e0b69",
   "metadata": {},
   "outputs": [],
   "source": [
    "#White Gaussian Noise ~ 10 sec (20 X 10^-9 sampling rate)\n",
    "N_samples = int(2e8)\n",
    "white_noise = np.random.normal(0.0,1.0, N_samples)"
   ]
  },
  {
   "cell_type": "code",
   "execution_count": 3,
   "id": "40d36485",
   "metadata": {},
   "outputs": [
    {
     "data": {
      "text/plain": [
       "[<matplotlib.lines.Line2D at 0x7efd35c9f370>]"
      ]
     },
     "execution_count": 3,
     "metadata": {},
     "output_type": "execute_result"
    },
    {
     "data": {
      "image/png": "[encoded data removed]",
      "text/plain": [
       "<Figure size 432x288 with 1 Axes>"
      ]
     },
     "metadata": {
      "needs_background": "light"
     },
     "output_type": "display_data"
    }
   ],
   "source": [
    "plt.plot(white_noise[:10000])"
   ]
  },
  {
   "cell_type": "code",
   "execution_count": 4,
   "id": "a120a0e3",
   "metadata": {},
   "outputs": [],
   "source": [
    "def gaussian(x,mu):\n",
    "    numerator = np.exp((-1*(x - mu)**2)/2)\n",
    "    denominator = np.sqrt(2*np.pi)\n",
    "    gaussian = 500*(numerator/denominator)\n",
    "    return gaussian"
   ]
  },
  {
   "cell_type": "code",
   "execution_count": 5,
   "id": "a4ea9d2d",
   "metadata": {},
   "outputs": [],
   "source": [
    "N = int(2e8)\n",
    "x = np.linspace(0,N,N)\n",
    "mu = N/2\n",
    "gaussian_samples = gaussian(x,mu)"
   ]
  },
  {
   "cell_type": "code",
   "execution_count": 6,
   "id": "c4c3b95a",
   "metadata": {},
   "outputs": [
    {
     "data": {
      "text/plain": [
       "[<matplotlib.lines.Line2D at 0x7efd35ccc5e0>]"
      ]
     },
     "execution_count": 6,
     "metadata": {},
     "output_type": "execute_result"
    },
    {
     "data": {
      "image/png": "[encoded data removed]",
      "text/plain": [
       "<Figure size 432x288 with 1 Axes>"
      ]
     },
     "metadata": {
      "needs_background": "light"
     },
     "output_type": "display_data"
    }
   ],
   "source": [
    "plt.plot(gaussian_samples)"
   ]
  },
  {
   "cell_type": "code",
   "execution_count": 7,
   "id": "a3b0cd25",
   "metadata": {},
   "outputs": [],
   "source": [
    "gaussian_timeseries = gaussian_samples\n",
    "# for i in range(1,1000):\n",
    "#     d = np.linspace(i*1000, (i+1)*1000, 1000)\n",
    "#     mu = 500 + i*1000\n",
    "#     g = gaussian(d,mu)\n",
    "#     gaussian_timeseries = np.concatenate((gaussian_timeseries,g))\n",
    "\n",
    "                                "
   ]
  },
  {
   "cell_type": "code",
   "execution_count": 8,
   "id": "bca3c83c",
   "metadata": {},
   "outputs": [
    {
     "data": {
      "text/plain": [
       "(200000000,)"
      ]
     },
     "execution_count": 8,
     "metadata": {},
     "output_type": "execute_result"
    }
   ],
   "source": [
    "# plt.plot(gaussian_timeseries)\n",
    "np.shape(gaussian_timeseries)"
   ]
  },
  {
   "cell_type": "code",
   "execution_count": 9,
   "id": "8644ef8e",
   "metadata": {},
   "outputs": [],
   "source": [
    "final_timeseries = white_noise + gaussian_timeseries"
   ]
  },
  {
   "cell_type": "code",
   "execution_count": 10,
   "id": "fd3e59ce",
   "metadata": {},
   "outputs": [
    {
     "data": {
      "text/plain": [
       "[<matplotlib.lines.Line2D at 0x7efc76c21070>]"
      ]
     },
     "execution_count": 10,
     "metadata": {},
     "output_type": "execute_result"
    },
    {
     "data": {
      "image/png": "[encoded data removed]",
      "text/plain": [
       "<Figure size 432x288 with 1 Axes>"
      ]
     },
     "metadata": {
      "needs_background": "light"
     },
     "output_type": "display_data"
    }
   ],
   "source": [
    "plt.plot(final_timeseries)"
   ]
  },
  {
   "cell_type": "code",
   "execution_count": 12,
   "id": "f4aa4afd",
   "metadata": {},
   "outputs": [],
   "source": [
    "Nx = 4096\n",
    "fft_r = []\n",
    "fft_i = []\n",
    "for i in range(N_samples//Nx):\n",
    "    temp_timeseries = final_timeseries[i*Nx:i*Nx + Nx]\n",
    "    fft_p = np.fft.fft(temp_timeseries)\n",
    "    fft_pulsar = fft_p[:int(Nx/2)]\n",
    "#     fft_pulsar = np.fft.fftshift(fft_pulsar)\n",
    "    for ff in fft_pulsar:\n",
    "        fft_r.append(ff.real)\n",
    "        fft_i.append(ff.imag)"
   ]
  },
  {
   "cell_type": "code",
   "execution_count": 13,
   "id": "0ebcc0fc",
   "metadata": {},
   "outputs": [
    {
     "data": {
      "text/plain": [
       "99999744"
      ]
     },
     "execution_count": 13,
     "metadata": {},
     "output_type": "execute_result"
    }
   ],
   "source": [
    "len(fft_r)"
   ]
  },
  {
   "cell_type": "code",
   "execution_count": 14,
   "id": "58f212ef",
   "metadata": {
    "scrolled": true
   },
   "outputs": [],
   "source": [
    "fft_r = np.clip(fft_r,-128,127)\n",
    "fft_i = np.clip(fft_i,-128,127)"
   ]
  },
  {
   "cell_type": "code",
   "execution_count": 15,
   "id": "419c139f",
   "metadata": {},
   "outputs": [],
   "source": [
    "final_fft = []\n",
    "for i in range(np.shape(fft_r)[0]):\n",
    "    final_fft.append(fft_r[i])\n",
    "    final_fft.append(fft_i[i])\n",
    "final_fft = np.array(final_fft,dtype=int)"
   ]
  },
  {
   "cell_type": "code",
   "execution_count": 16,
   "id": "84182fd5",
   "metadata": {},
   "outputs": [
    {
     "data": {
      "text/plain": [
       "array([ 20,   0, -10, -58, -15])"
      ]
     },
     "execution_count": 16,
     "metadata": {},
     "output_type": "execute_result"
    }
   ],
   "source": [
    "final_fft[:5]"
   ]
  },
  {
   "cell_type": "code",
   "execution_count": 18,
   "id": "674cb335",
   "metadata": {},
   "outputs": [],
   "source": [
    "d = np.array(final_fft[:5], dtype = np.int8).tobytes()"
   ]
  },
  {
   "cell_type": "code",
   "execution_count": 19,
   "id": "61341841",
   "metadata": {},
   "outputs": [
    {
     "data": {
      "text/plain": [
       "b'\\x14\\x00\\xf6\\xc6\\xf1'"
      ]
     },
     "execution_count": 19,
     "metadata": {},
     "output_type": "execute_result"
    }
   ],
   "source": [
    "d"
   ]
  },
  {
   "cell_type": "code",
   "execution_count": 2,
   "id": "26bdab37",
   "metadata": {},
   "outputs": [],
   "source": [
    "h = open('pulsar_sample.vlt','wb')"
   ]
  },
  {
   "cell_type": "code",
   "execution_count": 21,
   "id": "fa71d34e",
   "metadata": {},
   "outputs": [],
   "source": [
    "binary_fft_array = np.array(final_fft, dtype = np.int8).tobytes()\n",
    "# for i in range(len(final_fft_r)):\n",
    "#     h.write(final_fft_r[i].to_bytes(1,byteorder='big',signed=True))\n",
    "#     h.write(final_fft_i[i].to_bytes(1,byteorder='big',signed=True))"
   ]
  },
  {
   "cell_type": "code",
   "execution_count": 22,
   "id": "07f83bee",
   "metadata": {},
   "outputs": [
    {
     "data": {
      "text/plain": [
       "199999488"
      ]
     },
     "execution_count": 22,
     "metadata": {},
     "output_type": "execute_result"
    }
   ],
   "source": [
    "h.write(binary_fft_array)"
   ]
  },
  {
   "cell_type": "code",
   "execution_count": 23,
   "id": "f8715d7f",
   "metadata": {},
   "outputs": [],
   "source": [
    "h.close()"
   ]
  },
  {
   "cell_type": "code",
   "execution_count": 79,
   "id": "f5954e5e",
   "metadata": {},
   "outputs": [
    {
     "data": {
      "text/plain": [
       "488"
      ]
     },
     "execution_count": 79,
     "metadata": {},
     "output_type": "execute_result"
    }
   ],
   "source": [
    "1000000//2048"
   ]
  },
  {
   "cell_type": "code",
   "execution_count": 80,
   "id": "b1a5b3b8",
   "metadata": {},
   "outputs": [
    {
     "data": {
      "text/plain": [
       "999424"
      ]
     },
     "execution_count": 80,
     "metadata": {},
     "output_type": "execute_result"
    }
   ],
   "source": [
    "len(final_fft)"
   ]
  },
  {
   "cell_type": "code",
   "execution_count": 3,
   "id": "b7a5e5c2",
   "metadata": {},
   "outputs": [],
   "source": [
    "#Reading Pulsar Timeseries Raw file\n",
    "f = open('pulsar_sample.raw','rb')"
   ]
  },
  {
   "cell_type": "code",
   "execution_count": 4,
   "id": "3533bf20",
   "metadata": {},
   "outputs": [],
   "source": [
    "data = f.read()"
   ]
  },
  {
   "cell_type": "code",
   "execution_count": 5,
   "id": "174a2b93",
   "metadata": {},
   "outputs": [],
   "source": [
    "byte_array = []\n",
    "for string in data:\n",
    "    byte_array.append(np.int8(string))"
   ]
  },
  {
   "cell_type": "code",
   "execution_count": 6,
   "id": "04163f3a",
   "metadata": {},
   "outputs": [
    {
     "data": {
      "text/plain": [
       "48808"
      ]
     },
     "execution_count": 6,
     "metadata": {},
     "output_type": "execute_result"
    }
   ],
   "source": [
    "len(byte_array)//8192"
   ]
  },
  {
   "cell_type": "code",
   "execution_count": 7,
   "id": "fbfaad56",
   "metadata": {},
   "outputs": [],
   "source": [
    "byte_r = byte_array[::2]\n",
    "byte_i = byte_array[1::2]\n",
    "\n",
    "byte_r = np.array(byte_r, dtype = int)\n",
    "byte_i = np.array(byte_i, dtype = int)"
   ]
  },
  {
   "cell_type": "code",
   "execution_count": 8,
   "id": "c6c71b10",
   "metadata": {},
   "outputs": [],
   "source": [
    "complex_volts = byte_r**2 + byte_i**2"
   ]
  },
  {
   "cell_type": "code",
   "execution_count": 9,
   "id": "eff11068",
   "metadata": {},
   "outputs": [
    {
     "data": {
      "text/plain": [
       "[<matplotlib.lines.Line2D at 0x7fd8467154f0>]"
      ]
     },
     "execution_count": 9,
     "metadata": {},
     "output_type": "execute_result"
    },
    {
     "data": {
      "image/png": "[encoded data removed]",
      "text/plain": [
       "<Figure size 432x288 with 1 Axes>"
      ]
     },
     "metadata": {
      "needs_background": "light"
     },
     "output_type": "display_data"
    }
   ],
   "source": [
    "plt.plot(np.sqrt(complex_volts))"
   ]
  },
  {
   "cell_type": "code",
   "execution_count": 12,
   "id": "97ffe0f8",
   "metadata": {},
   "outputs": [
    {
     "data": {
      "text/plain": [
       "99960461"
      ]
     },
     "execution_count": 12,
     "metadata": {},
     "output_type": "execute_result"
    }
   ],
   "source": [
    "np.argmax(complex_volts)"
   ]
  },
  {
   "cell_type": "code",
   "execution_count": 12,
   "id": "8a060b1e",
   "metadata": {},
   "outputs": [
    {
     "data": {
      "text/plain": [
       "[<matplotlib.lines.Line2D at 0x7fd0afcbf280>]"
      ]
     },
     "execution_count": 12,
     "metadata": {},
     "output_type": "execute_result"
    },
    {
     "data": {
      "image/png": "[encoded data removed]",
      "text/plain": [
       "<Figure size 432x288 with 1 Axes>"
      ]
     },
     "metadata": {
      "needs_background": "light"
     },
     "output_type": "display_data"
    }
   ],
   "source": [
    "plt.plot(byte_r)"
   ]
  },
  {
   "cell_type": "code",
   "execution_count": 13,
   "id": "603a5133",
   "metadata": {},
   "outputs": [
    {
     "data": {
      "text/plain": [
       "[<matplotlib.lines.Line2D at 0x7fd0afbc2b20>]"
      ]
     },
     "execution_count": 13,
     "metadata": {},
     "output_type": "execute_result"
    },
    {
     "data": {
      "image/png": "[encoded data removed]",
      "text/plain": [
       "<Figure size 432x288 with 1 Axes>"
      ]
     },
     "metadata": {
      "needs_background": "light"
     },
     "output_type": "display_data"
    }
   ],
   "source": [
    "plt.plot(byte_i)"
   ]
  },
  {
   "cell_type": "code",
   "execution_count": 11,
   "id": "adcc8ae2",
   "metadata": {},
   "outputs": [
    {
     "data": {
      "text/plain": [
       "84.52810183601665"
      ]
     },
     "execution_count": 11,
     "metadata": {},
     "output_type": "execute_result"
    }
   ],
   "source": [
    "np.max(np.sqrt(complex_volts))"
   ]
  },
  {
   "cell_type": "code",
   "execution_count": null,
   "id": "7e3eb98e",
   "metadata": {},
   "outputs": [],
   "source": []
  }
 ],
 "metadata": {
  "kernelspec": {
   "display_name": "Python 3",
   "language": "python",
   "name": "python3"
  },
  "language_info": {
   "codemirror_mode": {
    "name": "ipython",
    "version": 3
   },
   "file_extension": ".py",
   "mimetype": "text/x-python",
   "name": "python",
   "nbconvert_exporter": "python",
   "pygments_lexer": "ipython3",
   "version": "3.8.0"
  }
 },
 "nbformat": 4,
 "nbformat_minor": 5
}
